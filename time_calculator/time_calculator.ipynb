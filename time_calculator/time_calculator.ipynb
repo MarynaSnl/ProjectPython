{
 "cells": [
  {
   "cell_type": "code",
   "execution_count": 1,
   "id": "9083d58c-16ea-4902-bd5a-776fba7b629b",
   "metadata": {},
   "outputs": [],
   "source": [
    "#add_time(\"3:00 PM\", \"3:10\")\n",
    "# Returns: 6:10 PM\n",
    "#add_time(\"11:30 AM\", \"2:32\", \"Monday\")\n",
    "# Returns: 2:02 PM, Monday\n",
    "#add_time(\"11:43 AM\", \"00:20\")\n",
    "# Returns: 12:03 PM\n",
    "#add_time(\"10:10 PM\", \"3:30\")\n",
    "# Returns: 1:40 AM (next day)\n",
    "#add_time(\"11:43 PM\", \"24:20\", \"tueSday\")\n",
    "# Returns: 12:03 AM, Thursday (2 days later)\n",
    "#add_time(\"6:30 PM\", \"205:12\")\n",
    "# Returns: 7:42 AM (9 days later)"
   ]
  },
  {
   "cell_type": "code",
   "execution_count": 4,
   "id": "cb98b46c-0b72-4a2a-9c84-5ee0897667f4",
   "metadata": {},
   "outputs": [],
   "source": [
    "import datetime as dt"
   ]
  },
  {
   "cell_type": "code",
   "execution_count": 45,
   "id": "f763f4d8-f8b3-4ed8-8f5c-1144abe4fa45",
   "metadata": {},
   "outputs": [],
   "source": [
    "import re\n",
    "from datetime import  date, time, timedelta, datetime\n",
    "#t1 = time('3:00 PM')\n",
    "\n",
    "ss = '3:00 PM'\n",
    "ss = ss.split(':')\n",
    "ss = '3:00 PM'\n",
    "ss = '3:00 PM'\n",
    "ss = re.findall('[0-9]+', ss).append(re.findall('[AMPM]+', ss))\n",
    "ss"
   ]
  },
  {
   "cell_type": "code",
   "execution_count": 246,
   "id": "34fa0865-e950-45bc-8c97-b0d8a256e8f7",
   "metadata": {},
   "outputs": [],
   "source": [
    "def add_time(start, duration, day_week = None):\n",
    "    import re\n",
    "    from datetime import  timedelta, datetime, time\n",
    "    if day_week != None:\n",
    "        day_week = day_week.lower().title()\n",
    "    s1 = re.findall('[0-9]+', start) + re.findall('[AMPM]+', start)\n",
    "    s2 =  re.findall('[0-9]+', duration) \n",
    "    time_pm_am = (lambda x,y: int(x)+12 if y == 'PM' else int(x))\n",
    "    d_t = datetime.combine(datetime.now().date(), time(time_pm_am(s1[0], s1[2]) ,int(s1[1])))\n",
    "    delta = timedelta(hours=int(s2[0]), minutes=int(s2[1]), seconds=0)\n",
    "\n",
    "    d_t_new = d_t + delta\n",
    "    days_delta = (d_t_new.date() - d_t.date()).days\n",
    "    d_t_new_time = d_t_new.time()\n",
    "    \n",
    "    d_t_new_day = ''\n",
    "    if day_week != None:\n",
    "        d_t_new_day = next_day_week(day_week, days_delta) \n",
    "    #d_t_new_day = d_t_new.strftime('%A')\n",
    "\n",
    "    \n",
    "    new_time_str = ' ' +str(d_t_new_time.strftime(\"%I:%M:%p\")).replace(':PM', ' PM').replace(':AM', ' AM')\n",
    "    new_time_str = new_time_str.replace(' 0','')\n",
    "    if day_week != None:\n",
    "        new_time_str = new_time_str + ', ' + d_t_new_day.strip().title() + ' '\n",
    "    if days_delta == 1:\n",
    "        new_time_str = new_time_str.rstrip() + ' (next day)'\n",
    "    elif days_delta > 1:\n",
    "        new_time_str = new_time_str.rstrip() + ' (' + str(days_delta).strip() + ' days later)'\n",
    "    new_time = new_time_str.strip()   \n",
    "    return new_time \n",
    "\n",
    "def next_day_week(day_week, days_delta):\n",
    "    d_w = ['Monday', 'Tuesday', 'Wednesday','Thursday', 'Friday', 'Saturday' , 'Sunday']\n",
    "    try:\n",
    "        pozition_t_d = d_w.index(day_week.lower().title())\n",
    "    except:\n",
    "        return \"\"\n",
    "    if days_delta > 7:\n",
    "        days_delta = days_delta%7 \n",
    "    if days_delta < 7 - pozition_t_d:\n",
    "        return(d_w[days_delta + pozition_t_d])\n",
    "    else:\n",
    "        return(d_w[days_delta + pozition_t_d-7])\n",
    "    "
   ]
  },
  {
   "cell_type": "code",
   "execution_count": 211,
   "id": "d740731d-9309-4ea4-866f-0f2315d8066d",
   "metadata": {},
   "outputs": [
    {
     "name": "stdout",
     "output_type": "stream",
     "text": [
      "d_t_new.time() 18:10:00\n"
     ]
    },
    {
     "data": {
      "text/plain": [
       "'6:10 PM'"
      ]
     },
     "execution_count": 211,
     "metadata": {},
     "output_type": "execute_result"
    }
   ],
   "source": [
    "add_time(\"3:00 PM\", \"3:10\")\n",
    "# 6:10 PM"
   ]
  },
  {
   "cell_type": "code",
   "execution_count": 242,
   "id": "01bb4747-5e39-41a6-9771-008c549a14d8",
   "metadata": {},
   "outputs": [
    {
     "name": "stdout",
     "output_type": "stream",
     "text": [
      "0\n",
      "Monday\n",
      "days_delta + pozition_t_d 0\n",
      "Monday\n"
     ]
    },
    {
     "data": {
      "text/plain": [
       "'2:02 PM, Monday '"
      ]
     },
     "execution_count": 242,
     "metadata": {},
     "output_type": "execute_result"
    }
   ],
   "source": [
    "add_time(\"11:30 AM\", \"2:32\", \"Monday\")\n",
    "# 2:02 PM, Monday"
   ]
  },
  {
   "cell_type": "code",
   "execution_count": 243,
   "id": "08f178a2-e47c-446e-9d2d-583d5e3b967c",
   "metadata": {},
   "outputs": [
    {
     "data": {
      "text/plain": [
       "' 12:03 PM'"
      ]
     },
     "execution_count": 243,
     "metadata": {},
     "output_type": "execute_result"
    }
   ],
   "source": [
    "add_time(\"11:43 AM\", \"00:20\")\n",
    "# 12:03 PM"
   ]
  },
  {
   "cell_type": "code",
   "execution_count": 247,
   "id": "7ef3148a-0db8-4f55-9927-042e4bfaf3b4",
   "metadata": {},
   "outputs": [
    {
     "name": "stdout",
     "output_type": "stream",
     "text": [
      "1\n",
      "Tuesday\n",
      "days_delta + pozition_t_d 0\n",
      "Monday\n"
     ]
    },
    {
     "data": {
      "text/plain": [
       "'6:18 AM, Monday (20 days later)'"
      ]
     },
     "execution_count": 247,
     "metadata": {},
     "output_type": "execute_result"
    }
   ],
   "source": [
    "add_time(\"8:16 PM\", \"466:02\", \"tuesday\")\n",
    "# 1:40 AM (next day)"
   ]
  },
  {
   "cell_type": "code",
   "execution_count": 241,
   "id": "07ba7970-f160-4f4a-8096-947fa53d2d13",
   "metadata": {},
   "outputs": [
    {
     "name": "stdout",
     "output_type": "stream",
     "text": [
      "1\n",
      "Tuesday\n",
      "days_delta + pozition_t_d 3\n",
      "Thursday\n"
     ]
    },
    {
     "data": {
      "text/plain": [
       "' 12:03 AM, Thursday (2 days later)'"
      ]
     },
     "execution_count": 241,
     "metadata": {},
     "output_type": "execute_result"
    }
   ],
   "source": [
    "strip()\n",
    "# Returns: 12:03 AM, Thursday (2 days later)"
   ]
  },
  {
   "cell_type": "code",
   "execution_count": 244,
   "id": "17a33fb2-2350-4ac7-8003-fdaa44e878c3",
   "metadata": {},
   "outputs": [
    {
     "data": {
      "text/plain": [
       "'7:42 AM (9 days later)'"
      ]
     },
     "execution_count": 244,
     "metadata": {},
     "output_type": "execute_result"
    }
   ],
   "source": [
    "add_time(\"6:30 PM\", \"205:12\")\n",
    "# 7:42 AM (9 days later)"
   ]
  },
  {
   "cell_type": "code",
   "execution_count": null,
   "id": "e2daa168-2657-4977-ba63-fa47f59d8102",
   "metadata": {},
   "outputs": [],
   "source": []
  }
 ],
 "metadata": {
  "kernelspec": {
   "display_name": "Python 3 (ipykernel)",
   "language": "python",
   "name": "python3"
  },
  "language_info": {
   "codemirror_mode": {
    "name": "ipython",
    "version": 3
   },
   "file_extension": ".py",
   "mimetype": "text/x-python",
   "name": "python",
   "nbconvert_exporter": "python",
   "pygments_lexer": "ipython3",
   "version": "3.9.12"
  }
 },
 "nbformat": 4,
 "nbformat_minor": 5
}
