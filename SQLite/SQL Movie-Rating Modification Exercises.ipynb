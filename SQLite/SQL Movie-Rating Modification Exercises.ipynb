{
 "cells": [
  {
   "cell_type": "markdown",
   "metadata": {
    "tags": []
   },
   "source": [
    "\n",
    "\n",
    "# SQLite examples\n",
    "\n"
   ]
  },
  {
   "cell_type": "markdown",
   "metadata": {},
   "source": [
    "![purple-divider](https://user-images.githubusercontent.com/7065401/52071927-c1cd7100-2562-11e9-908a-dde91ba14e59.png)\n"
   ]
  },
  {
   "cell_type": "code",
   "execution_count": 1,
   "metadata": {},
   "outputs": [],
   "source": [
    "import sqlite3 as sqlite3\n",
    "from creating_table import creating_table "
   ]
  },
  {
   "cell_type": "markdown",
   "metadata": {},
   "source": [
    "![green-divider](https://user-images.githubusercontent.com/7065401/52071924-c003ad80-2562-11e9-8297-1c6595f8a7ff.png)\n",
    "## SQL SQL Movie-Rating Modification Exercises\n",
    "### Tables:\n",
    "- 1. Movie ( mID, title, year, director ) \n",
    "- 2. Reviewer ( rID, name ).\n",
    "- 3. Rating ( rID, mID, stars, ratingDate ).\n",
    "### 1.  Creating tables:"
   ]
  },
  {
   "cell_type": "code",
   "execution_count": 5,
   "metadata": {},
   "outputs": [],
   "source": [
    "connection = sqlite3.connect(\":memory:\")\n",
    "cursor = connection.cursor()\n",
    "creating_table(\"Movie.txt\", cursor, connection)\n",
    "creating_table(\"Reviewer.txt\", cursor, connection)\n",
    "creating_table(\"Rating.txt\", cursor, connection)\n",
    "rows = cursor.execute(\"SELECT * FROM Movie;\", \"\").fetchone()\n",
    "print(rows)\n",
    "rows = cursor.execute(\"SELECT * FROM Reviewer;\", \"\").fetchone()\n",
    "print(rows)\n",
    "rows = cursor.execute(\"SELECT * FROM Rating;\", \"\").fetchone()\n",
    "print(rows)"
   ]
  },
  {
   "cell_type": "markdown",
   "metadata": {},
   "source": [
    "![green-divider](https://user-images.githubusercontent.com/7065401/52071924-c003ad80-2562-11e9-8297-1c6595f8a7ff.png)\n",
    "\n",
    "## 2.  Examples:\n",
    "\n",
    "- Add the reviewer Roger Ebert to your database, with an rID of 209. "
   ]
  },
  {
   "cell_type": "code",
   "execution_count": 3,
   "metadata": {},
   "outputs": [
    {
     "name": "stdout",
     "output_type": "stream",
     "text": [
      "(209, 'Roger Ebert')\n"
     ]
    }
   ],
   "source": [
    "sql_str = '''insert into Reviewer values(209, 'Roger Ebert');'''\n",
    "cursor.execute(sql_str)\n",
    "rows = cursor.execute(\"SELECT * FROM Reviewer where rID = 209;\", \"\").fetchone()\n",
    "print(rows)"
   ]
  },
  {
   "cell_type": "markdown",
   "metadata": {},
   "source": [
    "- For all movies that have an average rating of 4 stars or higher, add 25 to the release year. (Update the existing tuples; don't insert new tuples.)  "
   ]
  },
  {
   "cell_type": "code",
   "execution_count": 4,
   "metadata": {},
   "outputs": [
    {
     "name": "stdout",
     "output_type": "stream",
     "text": [
      "(106, 'Snow White', 1962, None)\n"
     ]
    }
   ],
   "source": [
    "sql_str = ''' Update Movie set year = year + 25 where mID in (Select mID from Rating group by mID having avg(stars) >= 4);'''\n",
    "cursor.execute(sql_str)\n",
    "rows = cursor.execute(\"SELECT * FROM Movie where mID in (Select mID from Rating group by mID having avg(stars) >= 4);\", \"\").fetchone()\n",
    "print(rows)"
   ]
  },
  {
   "cell_type": "markdown",
   "metadata": {},
   "source": [
    "- Remove all ratings where the movie's year is before 1970 or after 2000, and the rating is fewer than 4 stars."
   ]
  },
  {
   "cell_type": "code",
   "execution_count": 5,
   "metadata": {},
   "outputs": [
    {
     "name": "stdout",
     "output_type": "stream",
     "text": [
      "None\n"
     ]
    }
   ],
   "source": [
    "sql_str = ''' Delete from  Rating where mID in (Select mID from Movie where year < 1970 or year >2000)  and stars < 4;'''\n",
    "cursor.execute(sql_str).fetchone()\n",
    "rows = cursor.execute(\"SELECT * FROM Rating where mID in (Select mID from Movie where year < 1970 or year >2000)  and stars < 4;\", \"\").fetchone()\n",
    "print(rows)"
   ]
  },
  {
   "cell_type": "markdown",
   "metadata": {},
   "source": [
    "![purple-divider](https://user-images.githubusercontent.com/7065401/52071927-c1cd7100-2562-11e9-908a-dde91ba14e59.png)"
   ]
  },
  {
   "cell_type": "code",
   "execution_count": 12,
   "metadata": {},
   "outputs": [],
   "source": []
  }
 ],
 "metadata": {
  "kernelspec": {
   "display_name": "Python 3 (ipykernel)",
   "language": "python",
   "name": "python3"
  },
  "language_info": {
   "codemirror_mode": {
    "name": "ipython",
    "version": 3
   },
   "file_extension": ".py",
   "mimetype": "text/x-python",
   "name": "python",
   "nbconvert_exporter": "python",
   "pygments_lexer": "ipython3",
   "version": "3.9.12"
  }
 },
 "nbformat": 4,
 "nbformat_minor": 4
}
