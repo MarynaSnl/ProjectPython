{
 "cells": [
  {
   "cell_type": "markdown",
   "metadata": {
    "tags": []
   },
   "source": [
    "\n",
    "\n",
    "# SQLite examples\n",
    "\n"
   ]
  },
  {
   "cell_type": "markdown",
   "metadata": {},
   "source": [
    "![purple-divider](https://user-images.githubusercontent.com/7065401/52071927-c1cd7100-2562-11e9-908a-dde91ba14e59.png)\n"
   ]
  },
  {
   "cell_type": "code",
   "execution_count": 2,
   "metadata": {},
   "outputs": [],
   "source": [
    "import sqlite3 as sqlite3\n",
    "from creating_table import creating_table "
   ]
  },
  {
   "cell_type": "markdown",
   "metadata": {},
   "source": [
    "![green-divider](https://user-images.githubusercontent.com/7065401/52071924-c003ad80-2562-11e9-8297-1c6595f8a7ff.png)\n",
    "## SQL Social-Network Query Exercises\n",
    "### Tables:\n",
    "- 1. Highschooler ( ID, name, grade )\n",
    "- 2. Friend ( ID1, ID2 )  The student with ID1 is friends with the student with ID2. Friendship is mutual, so if (1, 5) is in the Friend table, so is (5, 1).\n",
    "- 3. Likes ( ID1, ID2 )  Liking someone is not necessarily mutual.\n",
    "\n",
    "### 1.Creating tables:"
   ]
  },
  {
   "cell_type": "code",
   "execution_count": 3,
   "metadata": {},
   "outputs": [],
   "source": [
    "connection = sqlite3.connect(\":memory:\")\n",
    "cursor = connection.cursor()\n",
    "creating_table(\"Friend.txt\", cursor, connection)\n",
    "creating_table(\"Likes.txt\", cursor, connection)\n",
    "creating_table(\"Highschooler.txt\", cursor, connection)"
   ]
  },
  {
   "cell_type": "code",
   "execution_count": 4,
   "metadata": {},
   "outputs": [
    {
     "name": "stdout",
     "output_type": "stream",
     "text": [
      "(1510, 'Jordan', 9)\n",
      "(1510, 1381)\n",
      "(1689, 1709)\n"
     ]
    }
   ],
   "source": [
    "rows = cursor.execute(\"SELECT * FROM Highschooler;\", \"\").fetchone()\n",
    "print(rows)\n",
    "rows = cursor.execute(\"SELECT * FROM Friend;\", \"\").fetchone()\n",
    "print(rows)\n",
    "rows = cursor.execute(\"SELECT * FROM Likes;\", \"\").fetchone()\n",
    "print(rows)"
   ]
  },
  {
   "cell_type": "markdown",
   "metadata": {},
   "source": [
    "![green-divider](https://user-images.githubusercontent.com/7065401/52071924-c003ad80-2562-11e9-8297-1c6595f8a7ff.png)\n",
    "\n",
    "## 2.  Examples:\n",
    "\n",
    "- Find the names of all students who are friends with someone named Gabriel. "
   ]
  },
  {
   "cell_type": "code",
   "execution_count": 5,
   "metadata": {},
   "outputs": [
    {
     "name": "stdout",
     "output_type": "stream",
     "text": [
      "('Alexis',)\n"
     ]
    }
   ],
   "source": [
    "sql_str = '''Select name from Highschooler where ID in (select ID2 from Friend where ID1 In  \n",
    "        (select ID from Highschooler where name like 'Gabriel')) group by ID order by ID;'''\n",
    "rows = cursor.execute(sql_str).fetchone()\n",
    "print(rows)"
   ]
  },
  {
   "cell_type": "markdown",
   "metadata": {},
   "source": [
    "- For every student who likes someone 2 or more grades younger than themselves, return that student's name and grade, and the name and grade of the student they like.  "
   ]
  },
  {
   "cell_type": "code",
   "execution_count": 6,
   "metadata": {},
   "outputs": [
    {
     "name": "stdout",
     "output_type": "stream",
     "text": [
      "('John', 12, 'Haley', 10)\n"
     ]
    }
   ],
   "source": [
    "sql_str = ''' Select H1.name, H1.grade, H2.name, H2.Grade  from (Likes join Highschooler as H1 on Likes.ID1 = H1.ID) \n",
    "            join Highschooler as H2 on Likes.ID2 = H2.ID  where H1.Grade-H2.Grade>=2 or H2.Grade-H1.Grade>=2;'''\n",
    "rows = cursor.execute(sql_str).fetchone()\n",
    "print(rows)"
   ]
  },
  {
   "cell_type": "markdown",
   "metadata": {},
   "source": [
    "- For every pair of students who both like each other, return the name and grade of both students. Include each pair only once, with the two names in alphabetical order. "
   ]
  },
  {
   "cell_type": "code",
   "execution_count": 7,
   "metadata": {},
   "outputs": [
    {
     "name": "stdout",
     "output_type": "stream",
     "text": [
      "('Cassandra', 9, 'Gabriel', 9)\n"
     ]
    }
   ],
   "source": [
    "sql_str = ''' Select distinct  CASE WHEN H1.name > H2.name THEN H2.name ELSE H1.name END, CASE WHEN H1.name > H2.name THEN H2.grade \n",
    "            ELSE H1.grade END, CASE WHEN H1.name > H2.name THEN H1.name ELSE H2.name END, CASE WHEN H1.name > H2.name THEN H1.grade \n",
    "            ELSE H2.grade END  from (Likes join Highschooler as H1 on Likes.ID1 = H1.ID) join Highschooler as H2 on Likes.ID2 = H2.ID \n",
    "            where Likes.ID1 in (select distinct CASE WHEN L1.ID1 <> L2.ID1 THEN L1.ID1  ELSE L2.ID1 END  from Likes L1 \n",
    "            inner join Likes L2 on L1.ID1 = L2.ID2 and L1.ID2 = L2.ID1)  order by H1.name, H2.name;'''\n",
    "rows = cursor.execute(sql_str).fetchone()\n",
    "print(rows)"
   ]
  },
  {
   "cell_type": "markdown",
   "metadata": {},
   "source": [
    "- Find all students who do not appear in the Likes table (as a student who likes or is liked) and return their names and grades. Sort by grade, then by name within each grade. "
   ]
  },
  {
   "cell_type": "code",
   "execution_count": 8,
   "metadata": {},
   "outputs": [
    {
     "name": "stdout",
     "output_type": "stream",
     "text": [
      "('Jordan', 9)\n"
     ]
    }
   ],
   "source": [
    "sql_str = ''' Select name, grade from Highschooler where ID  not in (Select ID1 IDl from Likes union Select ID2 IDl from Likes) order by grade, name;'''\n",
    "rows = cursor.execute(sql_str).fetchone()\n",
    "print(rows)"
   ]
  },
  {
   "cell_type": "markdown",
   "metadata": {},
   "source": [
    "- For every situation where student A likes student B, but we have no information about whom B likes (that is, B does not appear as an ID1 in the Likes table), return A and B's names and grades. "
   ]
  },
  {
   "cell_type": "code",
   "execution_count": 9,
   "metadata": {},
   "outputs": [
    {
     "name": "stdout",
     "output_type": "stream",
     "text": [
      "('Brittany', 10, 'Kris', 10)\n"
     ]
    }
   ],
   "source": [
    "sql_str = ''' Select H1.name, H1.grade, H2.name, H2.grade from (Likes join Highschooler as H1 on Likes.ID1 = H1.ID) \n",
    "            join Highschooler as H2 on Likes.ID2 = H2.ID  where Likes.ID2 not in (Select NL.ID1 from Likes NL) order by H1.grade, H1.name;'''\n",
    "rows = cursor.execute(sql_str).fetchone()\n",
    "print(rows)"
   ]
  },
  {
   "cell_type": "markdown",
   "metadata": {},
   "source": [
    "- Find names and grades of students who only have friends in the same grade. Return the result sorted by grade, then by name within each grade. "
   ]
  },
  {
   "cell_type": "code",
   "execution_count": 10,
   "metadata": {},
   "outputs": [
    {
     "name": "stdout",
     "output_type": "stream",
     "text": [
      "('Jordan', 9)\n"
     ]
    }
   ],
   "source": [
    "sql_str = ''' Select distinct name1, grade1 from (Select H1.name name1, H1.grade grade1, H2.name name2, H2.grade grade2  \n",
    "            from ((Select ID1 ID_1, ID2 ID_2 from Friend union Select ID2 ID_1, ID1 ID_2 from Friend) join Highschooler as H1 on ID_1 = H1.ID) \n",
    "            join Highschooler as H2 on ID_2 = H2.ID  group by ID_1  having count(distinct  H2.grade)  = 1)  where grade1 = grade1  order by grade1, name1;'''\n",
    "rows = cursor.execute(sql_str).fetchone()\n",
    "print(rows)"
   ]
  },
  {
   "cell_type": "markdown",
   "metadata": {},
   "source": [
    "- For each student A who likes a student B where the two are not friends, find if they have a friend C in common (who can introduce them!). For all such trios, return the name and grade of A, B, and C. "
   ]
  },
  {
   "cell_type": "code",
   "execution_count": 11,
   "metadata": {},
   "outputs": [
    {
     "name": "stdout",
     "output_type": "stream",
     "text": [
      "('Andrew', 10, 'Cassandra', 9, 'Gabriel', 9)\n"
     ]
    }
   ],
   "source": [
    "sql_str = ''' Select H1.name, H1.grade, H2.name, H2.grade, H3.name, H3.grade from ((Select Likes.ID1 LID1, Likes.ID2 LID2 from Friend , Likes where  not (Likes.ID1 = Friend.ID1 and Likes.ID2 = Friend.ID2 or Likes.ID1 = Friend.ID2 and Likes.ID2 =  Friend.ID1)  and Likes.ID1 = Friend.ID1\n",
    "            Except\n",
    "            Select Likes.ID1 LID1, Likes.ID2  LID2 from Friend , Likes where  \n",
    "            (Likes.ID1 = Friend.ID1 and Likes.ID2 = Friend.ID2 or Likes.ID1 = Friend.ID2 and Likes.ID2 =  Friend.ID1)  and Likes.ID1 = Friend.ID1)  \n",
    "            join  (Select ID1 ID_11, ID2 ID_21 from Friend union Select ID2 ID_11, ID1 ID_21 from Friend) on  ID_11 = LID1 )  \n",
    "            join  (Select ID1 ID_12, ID2 ID_22 from Friend union Select ID2 ID_12, ID1 ID_22 from Friend)  on  ID_12 = LID2 and ID_21 = ID_22 \n",
    "            join Highschooler as H1 on LID1 = H1.ID join Highschooler as H2 on LID2 = H2.ID join Highschooler as H3 on ID_21 = H3.ID order by H1.name, H2.name, H3.name;'''\n",
    "rows = cursor.execute(sql_str).fetchone()\n",
    "print(rows)"
   ]
  },
  {
   "cell_type": "markdown",
   "metadata": {},
   "source": [
    "- Find the difference between the number of students in the school and the number of different first names. "
   ]
  },
  {
   "cell_type": "code",
   "execution_count": 13,
   "metadata": {},
   "outputs": [
    {
     "name": "stdout",
     "output_type": "stream",
     "text": [
      "(2,)\n"
     ]
    }
   ],
   "source": [
    "sql_str = ''' Select Count(name)-Count(distinct name) from Highschooler;'''\n",
    "rows = cursor.execute(sql_str).fetchone()\n",
    "print(rows)"
   ]
  },
  {
   "cell_type": "markdown",
   "metadata": {},
   "source": [
    "- Find the name and grade of all students who are liked by more than one other student."
   ]
  },
  {
   "cell_type": "code",
   "execution_count": 14,
   "metadata": {},
   "outputs": [
    {
     "name": "stdout",
     "output_type": "stream",
     "text": [
      "('Cassandra', 9)\n"
     ]
    }
   ],
   "source": [
    "sql_str = ''' Select distinct name, grade from Highschooler where ID in (select  ID2  from Likes  group by ID2 having Count(ID2)>1) ;'''\n",
    "rows = cursor.execute(sql_str).fetchone()\n",
    "print(rows)"
   ]
  },
  {
   "cell_type": "markdown",
   "metadata": {},
   "source": [
    "![purple-divider](https://user-images.githubusercontent.com/7065401/52071927-c1cd7100-2562-11e9-908a-dde91ba14e59.png)"
   ]
  },
  {
   "cell_type": "code",
   "execution_count": null,
   "metadata": {},
   "outputs": [],
   "source": []
  }
 ],
 "metadata": {
  "kernelspec": {
   "display_name": "Python 3 (ipykernel)",
   "language": "python",
   "name": "python3"
  },
  "language_info": {
   "codemirror_mode": {
    "name": "ipython",
    "version": 3
   },
   "file_extension": ".py",
   "mimetype": "text/x-python",
   "name": "python",
   "nbconvert_exporter": "python",
   "pygments_lexer": "ipython3",
   "version": "3.9.12"
  }
 },
 "nbformat": 4,
 "nbformat_minor": 4
}
