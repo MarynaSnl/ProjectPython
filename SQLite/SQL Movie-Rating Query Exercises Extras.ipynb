{
 "cells": [
  {
   "cell_type": "markdown",
   "metadata": {
    "tags": []
   },
   "source": [
    "\n",
    "\n",
    "# SQLite examples\n",
    "\n"
   ]
  },
  {
   "cell_type": "markdown",
   "metadata": {},
   "source": [
    "![purple-divider](https://user-images.githubusercontent.com/7065401/52071927-c1cd7100-2562-11e9-908a-dde91ba14e59.png)\n"
   ]
  },
  {
   "cell_type": "code",
   "execution_count": 2,
   "metadata": {},
   "outputs": [],
   "source": [
    "import sqlite3 as sqlite3\n",
    "from creating_table import creating_table "
   ]
  },
  {
   "cell_type": "markdown",
   "metadata": {},
   "source": [
    "![green-divider](https://user-images.githubusercontent.com/7065401/52071924-c003ad80-2562-11e9-8297-1c6595f8a7ff.png)\n",
    "## SQL Movie-Rating Query Exercises Extras\n",
    "### Tables:\n",
    "- 1. Movie ( mID, title, year, director ) \n",
    "- 2. Reviewer ( rID, name ).\n",
    "- 3. Rating ( rID, mID, stars, ratingDate ).\n",
    "\n",
    "### 1.Creating tables:"
   ]
  },
  {
   "cell_type": "code",
   "execution_count": 4,
   "metadata": {},
   "outputs": [
    {
     "name": "stdout",
     "output_type": "stream",
     "text": [
      "(101, 'Gone with the Wind', 1939, 'Victor Fleming')\n",
      "(201, 'Sarah Martinez')\n",
      "(201, 101, 2, '2011-01-22')\n"
     ]
    }
   ],
   "source": [
    "connection = sqlite3.connect(\":memory:\")\n",
    "cursor = connection.cursor()\n",
    "creating_table(\"Movie.txt\", cursor, connection)\n",
    "creating_table(\"Reviewer.txt\", cursor, connection)\n",
    "creating_table(\"Rating.txt\", cursor, connection)\n",
    "rows = cursor.execute(\"SELECT * FROM Movie;\", \"\").fetchone()\n",
    "print(rows)\n",
    "rows = cursor.execute(\"SELECT * FROM Reviewer;\", \"\").fetchone()\n",
    "print(rows)\n",
    "rows = cursor.execute(\"SELECT * FROM Rating;\", \"\").fetchone()\n",
    "print(rows)"
   ]
  },
  {
   "cell_type": "markdown",
   "metadata": {},
   "source": [
    "![green-divider](https://user-images.githubusercontent.com/7065401/52071924-c003ad80-2562-11e9-8297-1c6595f8a7ff.png)\n",
    "\n",
    "## 2.  Examples:\n",
    "\n",
    "- Find the names of all reviewers who rated Gone with the Wind."
   ]
  },
  {
   "cell_type": "code",
   "execution_count": 5,
   "metadata": {},
   "outputs": [
    {
     "name": "stdout",
     "output_type": "stream",
     "text": [
      "('Sarah Martinez',)\n"
     ]
    }
   ],
   "source": [
    "sql_str = '''Select distinct name from Rating join Reviewer on Reviewer.rID = Rating.rID \n",
    "            where Rating.mID in (Select mID from Movie where title like '%Gone with the Wind%');'''\n",
    "rows = cursor.execute(sql_str).fetchone()\n",
    "print(rows)"
   ]
  },
  {
   "cell_type": "markdown",
   "metadata": {},
   "source": [
    "- For any rating where the reviewer is the same as the director of the movie, return the reviewer name, movie title, and number of stars."
   ]
  },
  {
   "cell_type": "code",
   "execution_count": 6,
   "metadata": {},
   "outputs": [
    {
     "name": "stdout",
     "output_type": "stream",
     "text": [
      "('James Cameron', 'Avatar', 5)\n"
     ]
    }
   ],
   "source": [
    "sql_str = ''' Select distinct name, title, stars from Rating join Reviewer on Reviewer.rID = Rating.rID  \n",
    "            Join Movie on Rating.mID = Movie.mID and Movie.director = Reviewer.name;'''\n",
    "rows = cursor.execute(sql_str).fetchone()\n",
    "print(rows)"
   ]
  },
  {
   "cell_type": "markdown",
   "metadata": {},
   "source": [
    "- Return all reviewer names and movie names together in a single list, alphabetized. (Sorting by the first name of the reviewer and first word in the title is fine; no need for special processing on last names or removing \"The\".)  "
   ]
  },
  {
   "cell_type": "code",
   "execution_count": 7,
   "metadata": {},
   "outputs": [
    {
     "name": "stdout",
     "output_type": "stream",
     "text": [
      "('Ashley White',)\n"
     ]
    }
   ],
   "source": [
    "sql_str = ''' Select distinct title NT  from  Movie union Select name from Reviewer order by NT;'''\n",
    "rows = cursor.execute(sql_str).fetchone()\n",
    "print(rows)"
   ]
  },
  {
   "cell_type": "markdown",
   "metadata": {},
   "source": [
    "- Find the titles of all movies not reviewed by Chris Jackson. "
   ]
  },
  {
   "cell_type": "code",
   "execution_count": 8,
   "metadata": {},
   "outputs": [
    {
     "name": "stdout",
     "output_type": "stream",
     "text": [
      "('Gone with the Wind',)\n"
     ]
    }
   ],
   "source": [
    "sql_str = ''' Select title from Movie where mID in (select mID from Rating  \n",
    "            where mID not in (Select mID from Rating  where rID in (Select rID \n",
    "            from Reviewer where name like '%Chris Jackson%' ))) or mID not in(select mID from Rating  );'''\n",
    "rows = cursor.execute(sql_str).fetchone()\n",
    "print(rows)"
   ]
  },
  {
   "cell_type": "markdown",
   "metadata": {},
   "source": [
    "- For all pairs of reviewers such that both reviewers gave a rating to the same movie, return the names of both reviewers. Eliminate duplicates, don't pair reviewers with themselves, and include each pair only once. For each pair, return the names in the pair in alphabetical order."
   ]
  },
  {
   "cell_type": "code",
   "execution_count": 9,
   "metadata": {},
   "outputs": [
    {
     "name": "stdout",
     "output_type": "stream",
     "text": [
      "('Ashley White', 'Chris Jackson')\n"
     ]
    }
   ],
   "source": [
    "sql_str = ''' Select distinct  N1, N2 from (Select distinct  CASE WHEN Reviewer.name > Reviewer1.name THEN Reviewer1.name  \n",
    "            ELSE Reviewer.name END N1, CASE WHEN Reviewer.name > Reviewer1.name THEN Reviewer.name ELSE Reviewer1.name END N2 \n",
    "            From (Select rID rID1, mID mID1 from Rating group by rID1, mID1) left   join (Select rID rID2, mID mID2  from Rating  group by rID2, mID2) \n",
    "            on mID1 = mID2 join Reviewer on rID1 = Reviewer.rID  join Reviewer as Reviewer1 on rID2 = Reviewer1.rID  where rID1<>rID2) order by N1;'''\n",
    "rows = cursor.execute(sql_str).fetchone()\n",
    "print(rows)"
   ]
  },
  {
   "cell_type": "markdown",
   "metadata": {},
   "source": [
    "- For each rating that is the lowest (fewest stars) currently in the database, return the reviewer name, movie title, and number of stars. "
   ]
  },
  {
   "cell_type": "code",
   "execution_count": 10,
   "metadata": {},
   "outputs": [
    {
     "name": "stdout",
     "output_type": "stream",
     "text": [
      "('Sarah Martinez', 'Gone with the Wind', 2)\n"
     ]
    }
   ],
   "source": [
    "sql_str = ''' Select distinct name, title, stars from Rating  \n",
    "            join Movie on Rating.mID = Movie.mID join Reviewer  on Rating.rID = Reviewer.rID where stars in (select min(stars) from Rating);'''\n",
    "rows = cursor.execute(sql_str).fetchone()\n",
    "print(rows)"
   ]
  },
  {
   "cell_type": "markdown",
   "metadata": {},
   "source": [
    "- List movie titles and average ratings, from highest-rated to lowest-rated. If two or more movies have the same average rating, list them in alphabetical order. "
   ]
  },
  {
   "cell_type": "code",
   "execution_count": 12,
   "metadata": {},
   "outputs": [
    {
     "name": "stdout",
     "output_type": "stream",
     "text": [
      "('Snow White', 4.5)\n"
     ]
    }
   ],
   "source": [
    "sql_str = ''' Select  title, astr from (Select avg(stars) astr, mID mID1 from Rating group by mID1)   \n",
    "            join Movie on Movie.mID = mID1 order by astr desc, title ;'''\n",
    "rows = cursor.execute(sql_str).fetchone()\n",
    "print(rows)"
   ]
  },
  {
   "cell_type": "markdown",
   "metadata": {},
   "source": [
    "- Find the names of all reviewers who have contributed three or more ratings. (As an extra challenge, try writing the query without HAVING or without COUNT.) "
   ]
  },
  {
   "cell_type": "code",
   "execution_count": 13,
   "metadata": {},
   "outputs": [
    {
     "name": "stdout",
     "output_type": "stream",
     "text": [
      "('Brittany Harris',)\n"
     ]
    }
   ],
   "source": [
    "sql_str = ''' Select name  from (Select rID rID1,  sum(c1)  c2 from (Select rID, 1 c1 from Rating) group by rID) \n",
    "            join Reviewer on Reviewer.rID = rID1 where c2 >=3;'''\n",
    "rows = cursor.execute(sql_str).fetchone()\n",
    "print(rows)"
   ]
  },
  {
   "cell_type": "markdown",
   "metadata": {},
   "source": [
    "- Some directors directed more than one movie. For all such directors, return the titles of all movies directed by them, along with the director name. Sort by director name, then movie title. (As an extra challenge, try writing the query both with and without COUNT.) "
   ]
  },
  {
   "cell_type": "code",
   "execution_count": 14,
   "metadata": {},
   "outputs": [
    {
     "name": "stdout",
     "output_type": "stream",
     "text": [
      "('Avatar', 'James Cameron')\n"
     ]
    }
   ],
   "source": [
    "sql_str = ''' Select title, director from Movie join (select director  D1,  sum(c1)  c2 from (Select director, 1 c1 from Movie) group by director ) \n",
    "            on Movie.director = D1 where c2 >=2 order by director, title;'''\n",
    "rows = cursor.execute(sql_str).fetchone()\n",
    "print(rows)"
   ]
  },
  {
   "cell_type": "markdown",
   "metadata": {},
   "source": [
    "- Find the movie(s) with the highest average rating. Return the movie title(s) and average rating. (Hint: This query is more difficult to write in SQLite than other systems; you might think of it as finding the highest average rating and then choosing the movie(s) with that average rating.) "
   ]
  },
  {
   "cell_type": "code",
   "execution_count": 15,
   "metadata": {},
   "outputs": [
    {
     "name": "stdout",
     "output_type": "stream",
     "text": [
      "('Snow White', 4.5)\n"
     ]
    }
   ],
   "source": [
    "sql_str = ''' Select title, av_stars  from (Select mID mID1, avg(stars) av_stars from Rating group by mID) join Movie on mID1 = Movie.mID  and  av_stars  in  (select max(av_stars ) \n",
    "            from (Select mID mID1, avg(stars) av_stars from Rating group by mID));'''\n",
    "rows = cursor.execute(sql_str).fetchone()\n",
    "print(rows)"
   ]
  },
  {
   "cell_type": "markdown",
   "metadata": {},
   "source": [
    "- Find the movie(s) with the lowest average rating. Return the movie title(s) and average rating. (Hint: This query may be more difficult to write in SQLite than other systems; you might think of it as finding the lowest average rating and then choosing the movie(s) with that average rating.) "
   ]
  },
  {
   "cell_type": "code",
   "execution_count": 17,
   "metadata": {},
   "outputs": [
    {
     "name": "stdout",
     "output_type": "stream",
     "text": [
      "('The Sound of Music', 2.5)\n"
     ]
    }
   ],
   "source": [
    "sql_str = ''' Select title, av_stars  from (Select mID mID1, avg(stars) av_stars from Rating group by mID) \n",
    "            join Movie on mID1 = Movie.mID  and  av_stars  in  (select min(av_stars ) \n",
    "            from (Select mID mID1, avg(stars) av_stars from Rating group by mID));'''\n",
    "rows = cursor.execute(sql_str).fetchone()\n",
    "print(rows)"
   ]
  },
  {
   "cell_type": "markdown",
   "metadata": {},
   "source": [
    "- For each director, return the director's name together with the title(s) of the movie(s) they directed that received the highest rating among all of their movies, and the value of that rating. Ignore movies whose director is NULL. "
   ]
  },
  {
   "cell_type": "code",
   "execution_count": 19,
   "metadata": {},
   "outputs": [
    {
     "name": "stdout",
     "output_type": "stream",
     "text": [
      "('James Cameron', 'Avatar', 5)\n"
     ]
    }
   ],
   "source": [
    "sql_str = ''' Select distinct director_, title, m_satrs from Movie join (Select distinct  director director_, max(stars)  m_satrs, Movie.mID MmID from Rating \n",
    "            join Movie on Movie.mID = Rating.mID group by director_) \n",
    "            on Movie.mID = MmID  where  director is not NULL order by  director_;'''\n",
    "rows = cursor.execute(sql_str).fetchone()\n",
    "print(rows)"
   ]
  },
  {
   "cell_type": "markdown",
   "metadata": {},
   "source": [
    "![purple-divider](https://user-images.githubusercontent.com/7065401/52071927-c1cd7100-2562-11e9-908a-dde91ba14e59.png)"
   ]
  },
  {
   "cell_type": "code",
   "execution_count": null,
   "metadata": {},
   "outputs": [],
   "source": []
  }
 ],
 "metadata": {
  "kernelspec": {
   "display_name": "Python 3 (ipykernel)",
   "language": "python",
   "name": "python3"
  },
  "language_info": {
   "codemirror_mode": {
    "name": "ipython",
    "version": 3
   },
   "file_extension": ".py",
   "mimetype": "text/x-python",
   "name": "python",
   "nbconvert_exporter": "python",
   "pygments_lexer": "ipython3",
   "version": "3.9.12"
  }
 },
 "nbformat": 4,
 "nbformat_minor": 4
}
