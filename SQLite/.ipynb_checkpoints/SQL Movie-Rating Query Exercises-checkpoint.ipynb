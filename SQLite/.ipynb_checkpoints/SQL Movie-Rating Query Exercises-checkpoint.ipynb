{
 "cells": [
  {
   "cell_type": "markdown",
   "metadata": {
    "tags": []
   },
   "source": [
    "\n",
    "\n",
    "# SQLite examples\n",
    "\n"
   ]
  },
  {
   "cell_type": "markdown",
   "metadata": {},
   "source": [
    "![purple-divider](https://user-images.githubusercontent.com/7065401/52071927-c1cd7100-2562-11e9-908a-dde91ba14e59.png)\n"
   ]
  },
  {
   "cell_type": "code",
   "execution_count": 1,
   "metadata": {},
   "outputs": [],
   "source": [
    "import sqlite3 as sqlite3\n",
    "from creating_table import creating_table "
   ]
  },
  {
   "cell_type": "markdown",
   "metadata": {},
   "source": [
    "![green-divider](https://user-images.githubusercontent.com/7065401/52071924-c003ad80-2562-11e9-8297-1c6595f8a7ff.png)\n",
    "## SQL Movie-Rating Query Exercises\n",
    "### Tables:\n",
    "- 1. Movie ( mID, title, year, director ) \n",
    "- 2. Reviewer ( rID, name ).\n",
    "- 3. Rating ( rID, mID, stars, ratingDate ).\n",
    "\n",
    "### 1.Creating tables:"
   ]
  },
  {
   "cell_type": "code",
   "execution_count": 2,
   "metadata": {},
   "outputs": [
    {
     "name": "stdout",
     "output_type": "stream",
     "text": [
      "(101, 'Gone with the Wind', 1939, 'Victor Fleming')\n",
      "(201, 'Sarah Martinez')\n",
      "(201, 101, 2, '2011-01-22')\n"
     ]
    }
   ],
   "source": [
    "connection = sqlite3.connect(\":memory:\")\n",
    "cursor = connection.cursor()\n",
    "creating_table(\"Movie.txt\", cursor, connection)\n",
    "creating_table(\"Reviewer.txt\", cursor, connection)\n",
    "creating_table(\"Rating.txt\", cursor, connection)\n",
    "rows = cursor.execute(\"SELECT * FROM Movie;\", \"\").fetchone()\n",
    "print(rows)\n",
    "rows = cursor.execute(\"SELECT * FROM Reviewer;\", \"\").fetchone()\n",
    "print(rows)\n",
    "rows = cursor.execute(\"SELECT * FROM Rating;\", \"\").fetchone()\n",
    "print(rows)"
   ]
  },
  {
   "cell_type": "markdown",
   "metadata": {},
   "source": [
    "![green-divider](https://user-images.githubusercontent.com/7065401/52071924-c003ad80-2562-11e9-8297-1c6595f8a7ff.png)\n",
    "\n",
    "## 2.  Examples:\n",
    "\n",
    "- Find the titles of all movies directed by Steven Spielberg. "
   ]
  },
  {
   "cell_type": "code",
   "execution_count": 4,
   "metadata": {},
   "outputs": [
    {
     "name": "stdout",
     "output_type": "stream",
     "text": [
      "(201, 101, 2, '2011-01-22')\n"
     ]
    }
   ],
   "source": [
    "sql_str = '''Select distinct title from Movie Where (director like '%Steven%') and  (director like '%Spielberg%');'''\n",
    "cursor.execute(sql_str).fetchone()\n",
    "print(rows)"
   ]
  },
  {
   "cell_type": "markdown",
   "metadata": {},
   "source": [
    "- Find all years that have a movie that received a rating of 4 or 5, and sort them in increasing order. "
   ]
  },
  {
   "cell_type": "code",
   "execution_count": 6,
   "metadata": {},
   "outputs": [
    {
     "name": "stdout",
     "output_type": "stream",
     "text": [
      "(1937,)\n"
     ]
    }
   ],
   "source": [
    "sql_str = ''' Select distinct year from Movie, Rating where (stars >= 4 and stars <=5) and Movie.mID = Rating.mID  order by year  ASC;'''\n",
    "rows = cursor.execute(sql_str).fetchone()\n",
    "print(rows)"
   ]
  },
  {
   "cell_type": "markdown",
   "metadata": {},
   "source": [
    "- Find the titles of all movies that have no ratings. "
   ]
  },
  {
   "cell_type": "code",
   "execution_count": 8,
   "metadata": {},
   "outputs": [
    {
     "name": "stdout",
     "output_type": "stream",
     "text": [
      "('Star Wars',)\n"
     ]
    }
   ],
   "source": [
    "sql_str = ''' Select distinct title from Movie where mID not in (Select distinct mID from Rating);'''\n",
    "rows = cursor.execute(sql_str).fetchone()\n",
    "print(rows)"
   ]
  },
  {
   "cell_type": "markdown",
   "metadata": {},
   "source": [
    "- Some reviewers didn't provide a date with their rating. Find the names of all reviewers who have ratings with a NULL value for the date. "
   ]
  },
  {
   "cell_type": "code",
   "execution_count": 9,
   "metadata": {},
   "outputs": [
    {
     "name": "stdout",
     "output_type": "stream",
     "text": [
      "('Daniel Lewis',)\n"
     ]
    }
   ],
   "source": [
    "sql_str = ''' Select name from Reviewer where rID in (Select distinct  rID from Rating where ratingDate is NULL);'''\n",
    "rows = cursor.execute(sql_str).fetchone()\n",
    "print(rows)"
   ]
  },
  {
   "cell_type": "markdown",
   "metadata": {},
   "source": [
    "- Write a query to return the ratings data in a more readable format: reviewer name, movie title, stars, and ratingDate. Also, sort the data, first by reviewer name, then by movie title, and lastly by number of stars. "
   ]
  },
  {
   "cell_type": "code",
   "execution_count": 10,
   "metadata": {},
   "outputs": [
    {
     "name": "stdout",
     "output_type": "stream",
     "text": [
      "('Ashley White', 'E.T.', 3, '2011-01-02')\n"
     ]
    }
   ],
   "source": [
    "sql_str = ''' Select Reviewer.name, Movie.title, Rating.stars, Rating.ratingDate \n",
    "        From Rating, Movie, Reviewer  Where Rating.rID = Reviewer.rID and Rating.mID = Movie.mID \n",
    "        Order by Reviewer.name, Movie.Title, Rating.Stars;'''\n",
    "rows = cursor.execute(sql_str).fetchone()\n",
    "print(rows)"
   ]
  },
  {
   "cell_type": "markdown",
   "metadata": {},
   "source": [
    "- For all cases where the same reviewer rated the same movie twice and gave it a higher rating the second time, return the reviewer's name and the title of the movie. "
   ]
  },
  {
   "cell_type": "code",
   "execution_count": 11,
   "metadata": {},
   "outputs": [
    {
     "name": "stdout",
     "output_type": "stream",
     "text": [
      "('Sarah Martinez', 'Gone with the Wind')\n"
     ]
    }
   ],
   "source": [
    "sql_str = ''' Select name, title from (Rating inner join (Select rID rIDgr, mID mIDgr, max(ratingDate)  maxDate, max(stars)  maxStars \n",
    "            from Rating group by rID, mID having count(stars) = 2 )  \n",
    "            on rIDgr = Rating.rID and mIDgr = Rating.mID and maxDate = Rating.ratingDate and maxStars = Rating.stars)  \n",
    "            join Reviewer  on Rating.rID = Reviewer.rID join Movie on Rating.mID = Movie.mID;'''\n",
    "rows = cursor.execute(sql_str).fetchone()\n",
    "print(rows)"
   ]
  },
  {
   "cell_type": "markdown",
   "metadata": {},
   "source": [
    "- For each movie that has at least one rating, find the highest number of stars that movie received. Return the movie title and number of stars. Sort by movie title. "
   ]
  },
  {
   "cell_type": "code",
   "execution_count": 13,
   "metadata": {},
   "outputs": [
    {
     "name": "stdout",
     "output_type": "stream",
     "text": [
      "('Avatar', 5)\n"
     ]
    }
   ],
   "source": [
    "sql_str = ''' Select title, maxStar  from Movie inner join (select max(stars)  maxStar, mID mID_ from Rating group by mID ) \n",
    "            on Movie.mID = mID_  order by title;'''\n",
    "rows = cursor.execute(sql_str).fetchone()\n",
    "print(rows)"
   ]
  },
  {
   "cell_type": "markdown",
   "metadata": {},
   "source": [
    "- For each movie, return the title and the 'rating spread', that is, the difference between highest and lowest ratings given to that movie. Sort by rating spread from highest to lowest, then by movie title. "
   ]
  },
  {
   "cell_type": "code",
   "execution_count": 15,
   "metadata": {},
   "outputs": [
    {
     "name": "stdout",
     "output_type": "stream",
     "text": [
      "('Avatar', 2)\n"
     ]
    }
   ],
   "source": [
    "sql_str = ''' Select title, spread from Movie, (Select max(stars)-min(stars)  spread, mID mIDs from Rating group by Rating.mID )  \n",
    "            where Movie.mID = mIDs order by spread desc, title;'''\n",
    "rows = cursor.execute(sql_str).fetchone()\n",
    "print(rows)"
   ]
  },
  {
   "cell_type": "markdown",
   "metadata": {},
   "source": [
    "- Find the difference between the average rating of movies released before 1980 and the average rating of movies released after 1980. (Make sure to calculate the average rating for each movie, then the average of those averages for movies before 1980 and movies after. Don't just calculate the overall average rating before and after 1980.) "
   ]
  },
  {
   "cell_type": "code",
   "execution_count": 17,
   "metadata": {},
   "outputs": [
    {
     "name": "stdout",
     "output_type": "stream",
     "text": [
      "(0.05555555555555536,)\n"
     ]
    }
   ],
   "source": [
    "sql_str = ''' Select Sum(CASE WHEN before1980 = 1 THEN av_movieA ELSE 0 END)- Sum(CASE WHEN before1980 = 0 THEN av_movieA ELSE 0 END) \n",
    "            from  (Select  avg(av_movie) av_movieA , before1980 from( Select Rating.mID, avg(stars) av_movie, year < 1980 before1980 \n",
    "            from Rating left  join Movie on Movie.mID = Rating.mID where Movie .year <> 1980 group by Rating.mID )  group by before1980);'''\n",
    "rows = cursor.execute(sql_str).fetchone()\n",
    "print(rows)"
   ]
  },
  {
   "cell_type": "markdown",
   "metadata": {},
   "source": [
    "![purple-divider](https://user-images.githubusercontent.com/7065401/52071927-c1cd7100-2562-11e9-908a-dde91ba14e59.png)"
   ]
  },
  {
   "cell_type": "code",
   "execution_count": null,
   "metadata": {},
   "outputs": [],
   "source": []
  }
 ],
 "metadata": {
  "kernelspec": {
   "display_name": "Python 3 (ipykernel)",
   "language": "python",
   "name": "python3"
  },
  "language_info": {
   "codemirror_mode": {
    "name": "ipython",
    "version": 3
   },
   "file_extension": ".py",
   "mimetype": "text/x-python",
   "name": "python",
   "nbconvert_exporter": "python",
   "pygments_lexer": "ipython3",
   "version": "3.9.12"
  }
 },
 "nbformat": 4,
 "nbformat_minor": 4
}
