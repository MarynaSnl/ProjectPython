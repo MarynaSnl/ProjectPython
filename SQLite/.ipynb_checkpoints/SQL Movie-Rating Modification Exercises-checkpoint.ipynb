{
 "cells": [
  {
   "cell_type": "markdown",
   "metadata": {
    "tags": []
   },
   "source": [
    "\n",
    "\n",
    "# SQLite examples\n",
    "\n"
   ]
  },
  {
   "cell_type": "markdown",
   "metadata": {},
   "source": [
    "![purple-divider](https://user-images.githubusercontent.com/7065401/52071927-c1cd7100-2562-11e9-908a-dde91ba14e59.png)\n"
   ]
  },
  {
   "cell_type": "code",
   "execution_count": 2,
   "metadata": {},
   "outputs": [],
   "source": [
    "import pandas as pd\n",
    "import sqlite3 as sqlite3"
   ]
  },
  {
   "cell_type": "markdown",
   "metadata": {},
   "source": [
    "![green-divider](https://user-images.githubusercontent.com/7065401/52071924-c003ad80-2562-11e9-8297-1c6595f8a7ff.png)\n",
    "## SQL Social-Network Query Exercises Extras\n",
    "### Tables:\n",
    "- 1. Highschooler ( ID, name, grade )\n",
    "- 2. Friend ( ID1, ID2 )  The student with ID1 is friends with the student with ID2. Friendship is mutual, so if (1, 5) is in the Friend table, so is (5, 1).\n",
    "- 3. Likes ( ID1, ID2 )  Liking someone is not necessarily mutual.\n",
    "### 1.  Creating tables:"
   ]
  },
  {
   "cell_type": "code",
   "execution_count": 3,
   "metadata": {},
   "outputs": [],
   "source": [
    "connection = sqlite3.connect(\":memory:\")\n",
    "cursor = connection.cursor()\n",
    "#print(connection.total_changes)\n",
    "\n",
    "########  creating table Frends\n",
    "file = open(\"Friend.txt\")\n",
    "ss = file.read()\n",
    "cursor.execute(ss)\n",
    "connection.commit()\n",
    "file.close()\n",
    "###### insert data in Frends\n",
    "file = open(\"Friend1.txt\", \"r\")\n",
    "ss = file.read()\n",
    "cursor.executescript(ss)\n",
    "connection.commit()\n",
    "file.close()\n",
    "#rows = cursor.execute(\"SELECT * FROM Friend;\", \"\").fetchall()\n",
    "#print(rows)\n",
    "\n",
    "########  creating table Likes\n",
    "file = open(\"Likes.txt\")\n",
    "ss = file.read()\n",
    "cursor.execute(ss)\n",
    "connection.commit()\n",
    "file.close()\n",
    "###### insert data in Likes\n",
    "file = open(\"Likes1.txt\", \"r\")\n",
    "ss = file.read()\n",
    "cursor.executescript(ss)\n",
    "connection.commit()\n",
    "file.close()\n",
    "\n",
    "######## creating table  Highschooler\n",
    "file = open(\"Highschooler.txt\")\n",
    "ss = file.read()\n",
    "cursor.execute(ss)\n",
    "connection.commit()\n",
    "file.close()\n",
    "###### insert data in Likes\n",
    "file = open(\"Highschooler1.txt\", \"r\")\n",
    "ss = file.read()\n",
    "cursor.executescript(ss)\n",
    "connection.commit()\n",
    "file.close()\n"
   ]
  },
  {
   "cell_type": "code",
   "execution_count": 6,
   "metadata": {},
   "outputs": [
    {
     "name": "stdout",
     "output_type": "stream",
     "text": [
      "(1510, 'Jordan', 9)\n",
      "(1510, 1381)\n",
      "(1689, 1709)\n"
     ]
    }
   ],
   "source": [
    "rows = cursor.execute(\"SELECT * FROM Highschooler;\", \"\").fetchone()\n",
    "print(rows)\n",
    "rows = cursor.execute(\"SELECT * FROM Friend;\", \"\").fetchone()\n",
    "print(rows)\n",
    "rows = cursor.execute(\"SELECT * FROM Likes;\", \"\").fetchone()\n",
    "print(rows)"
   ]
  },
  {
   "cell_type": "markdown",
   "metadata": {},
   "source": [
    "![green-divider](https://user-images.githubusercontent.com/7065401/52071924-c003ad80-2562-11e9-8297-1c6595f8a7ff.png)\n",
    "\n",
    "## 2.  Examples:\n",
    "\n",
    "- For every situation where student A likes student B, but student B likes a different student C, return the names and grades of A, B, and C. "
   ]
  },
  {
   "cell_type": "code",
   "execution_count": 19,
   "metadata": {},
   "outputs": [
    {
     "name": "stdout",
     "output_type": "stream",
     "text": [
      "('Andrew', 10, 'Cassandra', 9, 'Gabriel', 9)\n"
     ]
    }
   ],
   "source": [
    "sql_str = '''Select H1.name, H1.grade, H2.name, H2.grade, name3, grade3 from \n",
    "            (Likes join Highschooler as H1 on Likes.ID1 = H1.ID) join Highschooler as H2 on Likes.ID2 = H2.ID  \n",
    "            join  (Select ID1 NLID1, ID2 NLID2, Highschooler.name name3, Highschooler. grade  grade3 \n",
    "            from Likes join Highschooler on NLID2 = Highschooler.ID) on Likes.ID2  = NLID1 and NLID2 <> Likes.ID1 order by H1.grade, H1.name;'''\n",
    "rows = cursor.execute(sql_str).fetchone()\n",
    "print(rows)"
   ]
  },
  {
   "cell_type": "markdown",
   "metadata": {},
   "source": [
    "- Find those students for whom all of their friends are in different grades from themselves. Return the students' names and grades. "
   ]
  },
  {
   "cell_type": "code",
   "execution_count": 20,
   "metadata": {},
   "outputs": [
    {
     "name": "stdout",
     "output_type": "stream",
     "text": [
      "('Austin', 11)\n"
     ]
    }
   ],
   "source": [
    "sql_str = ''' Select H1.name, H1.grade  \n",
    "            from (Select distinct ID1 ID_11, ID2 ID_21 from Friend union Select ID2 ID_11, ID1 ID_21 from Friend) \n",
    "            join Highschooler H1 on ID_11 = H1.ID  join Highschooler H2 on ID_21 = H2.ID where ID_11  not in \n",
    "            (Select ID1_   from  (Select distinct ID1 ID1_, ID2 ID2_ from Friend union Select ID2 ID1_, ID1 ID2_ from Friend) \n",
    "            join Highschooler  H1_ on ID1_ = H1_.ID  join Highschooler  H2_  on ID2_ = H2_.ID where H1_.grade = H2_.grade) \n",
    "            group by ID_11  having Count(distinct H2.grade) = Count(H2.grade);'''\n",
    "rows = cursor.execute(sql_str).fetchone()\n",
    "print(rows)"
   ]
  },
  {
   "cell_type": "markdown",
   "metadata": {},
   "source": [
    "- What is the average number of friends per student? (Your result should be just one number.) "
   ]
  },
  {
   "cell_type": "code",
   "execution_count": 21,
   "metadata": {},
   "outputs": [
    {
     "name": "stdout",
     "output_type": "stream",
     "text": [
      "(2.5,)\n"
     ]
    }
   ],
   "source": [
    "sql_str = ''' Select (G1+0.00000)/(G2+0.00000)   from (Select Count(*)  G1, count(distinct  ID_11)  G2  \n",
    "            from (Select distinct ID1 ID_11, ID2 ID_21 from Friend union Select ID2 ID_11, ID1 ID_21 from Friend));'''\n",
    "rows = cursor.execute(sql_str).fetchone()\n",
    "print(rows)"
   ]
  },
  {
   "cell_type": "markdown",
   "metadata": {},
   "source": [
    "- Find the number of students who are either friends with Cassandra or are friends of friends of Cassandra. Do not count Cassandra, even though technically she is a friend of a friend. "
   ]
  },
  {
   "cell_type": "code",
   "execution_count": 23,
   "metadata": {},
   "outputs": [
    {
     "name": "stdout",
     "output_type": "stream",
     "text": [
      "(7,)\n"
     ]
    }
   ],
   "source": [
    "sql_str = ''' Select count(distinct  ID_D)  from  (Select distinct  ID_D from  (Select distinct ID1 ID_C, ID2 ID_D \n",
    "            from Friend union Select ID2 ID_C, ID1 ID_D from Friend)  where ID_C in (select ID \n",
    "            from Highschooler  where name like 'Cassandra') union Select distinct  ID_DD  \n",
    "            from (Select distinct ID1 ID_DC_, ID2 ID_DD from Friend union Select ID2 ID_DC_, ID1 ID_DD from Friend) where ID_DC_ in (select ID_D \n",
    "            from (Select distinct ID1 ID_C, ID2 ID_D from Friend union Select ID2 ID_C, ID1 ID_D from Friend)  \n",
    "            where ID_C in (select ID from Highschooler  where name like 'Cassandra')) )  where  ID_D not in (select ID from Highschooler  \n",
    "            where name like 'Cassandra') ;'''\n",
    "rows = cursor.execute(sql_str).fetchone()\n",
    "print(rows)"
   ]
  },
  {
   "cell_type": "markdown",
   "metadata": {},
   "source": [
    "- Find the name and grade of the student(s) with the greatest number of friends."
   ]
  },
  {
   "cell_type": "code",
   "execution_count": 24,
   "metadata": {},
   "outputs": [
    {
     "name": "stdout",
     "output_type": "stream",
     "text": [
      "('Alexis', 11)\n"
     ]
    }
   ],
   "source": [
    "sql_str = ''' Select name, grade from (Select distinct  ID_1, Count(ID_2)  KK2  \n",
    "        from  (Select distinct ID1 ID_1, ID2 ID_2 from Friend union Select ID2 ID_1, ID1 ID_2 from Friend \n",
    "        order by ID_1, ID_2) group by ID_1)  join Highschooler H1 on ID_1 = H1.ID  \n",
    "        where  KK2 in (Select max(KK) from (Select distinct  Count(ID_2)  KK  \n",
    "        from  (Select distinct ID1 ID_1, ID2 ID_2 from Friend union Select ID2 ID_1, ID1 ID_2 \n",
    "        from Friend order by ID_1, ID_2) group by ID_1)) order by name ;'''\n",
    "rows = cursor.execute(sql_str).fetchone()\n",
    "print(rows)"
   ]
  },
  {
   "cell_type": "markdown",
   "metadata": {},
   "source": [
    "![purple-divider](https://user-images.githubusercontent.com/7065401/52071927-c1cd7100-2562-11e9-908a-dde91ba14e59.png)"
   ]
  },
  {
   "cell_type": "code",
   "execution_count": null,
   "metadata": {},
   "outputs": [],
   "source": []
  }
 ],
 "metadata": {
  "kernelspec": {
   "display_name": "Python 3 (ipykernel)",
   "language": "python",
   "name": "python3"
  },
  "language_info": {
   "codemirror_mode": {
    "name": "ipython",
    "version": 3
   },
   "file_extension": ".py",
   "mimetype": "text/x-python",
   "name": "python",
   "nbconvert_exporter": "python",
   "pygments_lexer": "ipython3",
   "version": "3.9.12"
  }
 },
 "nbformat": 4,
 "nbformat_minor": 4
}
