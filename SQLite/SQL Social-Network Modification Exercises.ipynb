{
 "cells": [
  {
   "cell_type": "markdown",
   "metadata": {
    "tags": []
   },
   "source": [
    "\n",
    "\n",
    "# SQLite examples\n",
    "\n"
   ]
  },
  {
   "cell_type": "markdown",
   "metadata": {},
   "source": [
    "![purple-divider](https://user-images.githubusercontent.com/7065401/52071927-c1cd7100-2562-11e9-908a-dde91ba14e59.png)\n"
   ]
  },
  {
   "cell_type": "code",
   "execution_count": 8,
   "metadata": {},
   "outputs": [],
   "source": [
    "import sqlite3 as sqlite3\n",
    "from creating_table import creating_table "
   ]
  },
  {
   "cell_type": "markdown",
   "metadata": {},
   "source": [
    "![green-divider](https://user-images.githubusercontent.com/7065401/52071924-c003ad80-2562-11e9-8297-1c6595f8a7ff.png)\n",
    "## SQL Social-Network Modification Exercises\n",
    "### Tables:\n",
    "- 1. Highschooler ( ID, name, grade )\n",
    "- 2. Friend ( ID1, ID2 )  The student with ID1 is friends with the student with ID2. Friendship is mutual, so if (1, 5) is in the Friend table, so is (5, 1).\n",
    "- 3. Likes ( ID1, ID2 )  Liking someone is not necessarily mutual.\n",
    "\n",
    "### 1.Creating tables:"
   ]
  },
  {
   "cell_type": "code",
   "execution_count": 9,
   "metadata": {},
   "outputs": [],
   "source": [
    "connection = sqlite3.connect(\":memory:\")\n",
    "cursor = connection.cursor()\n",
    "creating_table(\"Friend.txt\", cursor, connection)\n",
    "creating_table(\"Likes.txt\", cursor, connection)\n",
    "creating_table(\"Highschooler.txt\", cursor, connection)"
   ]
  },
  {
   "cell_type": "code",
   "execution_count": 10,
   "metadata": {},
   "outputs": [
    {
     "name": "stdout",
     "output_type": "stream",
     "text": [
      "(1510, 'Jordan', 9)\n",
      "(1510, 1381)\n",
      "(1689, 1709)\n"
     ]
    }
   ],
   "source": [
    "rows = cursor.execute(\"SELECT * FROM Highschooler;\", \"\").fetchone()\n",
    "print(rows)\n",
    "rows = cursor.execute(\"SELECT * FROM Friend;\", \"\").fetchone()\n",
    "print(rows)\n",
    "rows = cursor.execute(\"SELECT * FROM Likes;\", \"\").fetchone()\n",
    "print(rows)"
   ]
  },
  {
   "cell_type": "markdown",
   "metadata": {},
   "source": [
    "![green-divider](https://user-images.githubusercontent.com/7065401/52071924-c003ad80-2562-11e9-8297-1c6595f8a7ff.png)\n",
    "\n",
    "## 2.  Examples:\n",
    "\n",
    "- Remove all 12th graders from Highschooler. "
   ]
  },
  {
   "cell_type": "code",
   "execution_count": 6,
   "metadata": {},
   "outputs": [
    {
     "name": "stdout",
     "output_type": "stream",
     "text": [
      "None\n"
     ]
    }
   ],
   "source": [
    "sql_str = '''Delete from Highschooler where grade = 12;'''\n",
    "cursor.execute(sql_str)\n",
    "rows = cursor.execute(\"Select * from Highschooler where grade = 12\").fetchone()\n",
    "print(rows)"
   ]
  },
  {
   "cell_type": "markdown",
   "metadata": {},
   "source": [
    "- If two students A and B are friends, and A likes B but not vice-versa, remove the Likes tuple."
   ]
  },
  {
   "cell_type": "code",
   "execution_count": 11,
   "metadata": {},
   "outputs": [
    {
     "name": "stdout",
     "output_type": "stream",
     "text": [
      "(1911, 1247)\n",
      "None\n"
     ]
    }
   ],
   "source": [
    "# verification - if exist that \n",
    "rows = cursor.execute('''Select * from Likes where (ID1,ID2)   in  (Select Likes.ID1, Likes.ID2 \n",
    "from (Likes join (Select ID11, ID21 from (Select ID11, ID21, nn  from (Select ID1 ID11, ID2 ID21, 1 nn from Likes union Select ID2 ID11, ID1 ID21, 2 nn  \n",
    "from Likes order by ID11, ID21)  group by ID11, ID21 having count(nn)< 2) where nn = 1) on Likes.ID1 = ID11 and Likes.ID2 = ID21)  \n",
    "join (Select ID1 ID_11, ID2 ID_21 from Friend union Select ID2 ID_11, ID1 ID_21 from Friend) on Likes.ID1 = ID_11 and Likes.ID2 = ID_21) ;''').fetchone()\n",
    "print(rows)\n",
    "# delete\n",
    "sql_str = ''' Delete from Likes where (ID1,ID2)   in  (Select Likes.ID1, Likes.ID2 \n",
    "from (Likes join (Select ID11, ID21 from (Select ID11, ID21, nn  from (Select ID1 ID11, ID2 ID21, 1 nn from Likes union Select ID2 ID11, ID1 ID21, 2 nn  \n",
    "from Likes order by ID11, ID21)  group by ID11, ID21 having count(nn)< 2) where nn = 1) on Likes.ID1 = ID11 and Likes.ID2 = ID21)  \n",
    "join (Select ID1 ID_11, ID2 ID_21 from Friend union Select ID2 ID_11, ID1 ID_21 from Friend) on Likes.ID1 = ID_11 and Likes.ID2 = ID_21) ;'''\n",
    "cursor.execute(sql_str)\n",
    "# verification after deletion\n",
    "rows = cursor.execute('''Select * from Likes where (ID1,ID2)   in  (Select Likes.ID1, Likes.ID2 \n",
    "from (Likes join (Select ID11, ID21 from (Select ID11, ID21, nn  from (Select ID1 ID11, ID2 ID21, 1 nn from Likes union Select ID2 ID11, ID1 ID21, 2 nn  \n",
    "from Likes order by ID11, ID21)  group by ID11, ID21 having count(nn)< 2) where nn = 1) on Likes.ID1 = ID11 and Likes.ID2 = ID21)  \n",
    "join (Select ID1 ID_11, ID2 ID_21 from Friend union Select ID2 ID_11, ID1 ID_21 from Friend) on Likes.ID1 = ID_11 and Likes.ID2 = ID_21) ;''').fetchone()\n",
    "print(rows)"
   ]
  },
  {
   "cell_type": "markdown",
   "metadata": {},
   "source": [
    "- For all cases where A is friends with B, and B is friends with C, add a new friendship for the pair A and C. Do not add duplicate friendships, friendships that already exist, or friendships with oneself. (This one is a bit challenging; congratulations if you get it right.) "
   ]
  },
  {
   "cell_type": "code",
   "execution_count": 13,
   "metadata": {},
   "outputs": [
    {
     "name": "stdout",
     "output_type": "stream",
     "text": [
      "(1025, 1304)\n",
      "(1025, 1316)\n"
     ]
    }
   ],
   "source": [
    "# verification - if exist that \n",
    "rows = cursor.execute('''Select distinct ID_11, ID_22 from (Select ID_11,  ID_21, ID_22, ID_23  \n",
    "        from ((Select distinct ID1 ID_11, ID2 ID_21 from Friend union Select ID2 ID_11, ID1 ID_21 from Friend)   \n",
    "        join (Select distinct ID1 ID_12, ID2 ID_22 from Friend union Select ID2 ID_12, ID1 ID_22 from Friend) on ID_21 = ID_12) left \n",
    "        outer join  (Select distinct ID1 ID_13, ID2 ID_23 from Friend union Select ID2 ID_13, ID1 ID_23 from Friend)  on ID_11 = ID_13 and  ID_22= ID_23  \n",
    "        where ID_11 <> ID_22  order by ID_11,  ID_21, ID_22) where ID_23 is null ;''').fetchone()\n",
    "print(rows)\n",
    "sql_str = ''' Insert into Friend Select distinct ID_11, ID_22 from (Select ID_11,  ID_21, ID_22, ID_23  \n",
    "        from ((Select distinct ID1 ID_11, ID2 ID_21 from Friend union Select ID2 ID_11, ID1 ID_21 from Friend)   \n",
    "        join (Select distinct ID1 ID_12, ID2 ID_22 from Friend union Select ID2 ID_12, ID1 ID_22 from Friend) on ID_21 = ID_12) left \n",
    "        outer join  (Select distinct ID1 ID_13, ID2 ID_23 from Friend union Select ID2 ID_13, ID1 ID_23 from Friend)  on ID_11 = ID_13 and  ID_22= ID_23  \n",
    "        where ID_11 <> ID_22  order by ID_11,  ID_21, ID_22) where ID_23 is null ;'''\n",
    "cursor.execute(sql_str)\n",
    "# verification after deletion\n",
    "rows = cursor.execute(''' Select distinct ID_11, ID_22 from (Select ID_11,  ID_21, ID_22, ID_23  \n",
    "        from ((Select distinct ID1 ID_11, ID2 ID_21 from Friend union Select ID2 ID_11, ID1 ID_21 from Friend)   \n",
    "        join (Select distinct ID1 ID_12, ID2 ID_22 from Friend union Select ID2 ID_12, ID1 ID_22 from Friend) on ID_21 = ID_12) left \n",
    "        outer join  (Select distinct ID1 ID_13, ID2 ID_23 from Friend union Select ID2 ID_13, ID1 ID_23 from Friend)  on ID_11 = ID_13 and  ID_22= ID_23  \n",
    "        where ID_11 <> ID_22  order by ID_11,  ID_21, ID_22) where ID_23 is null ;''').fetchone()\n",
    "print(rows)"
   ]
  },
  {
   "cell_type": "markdown",
   "metadata": {},
   "source": [
    "![purple-divider](https://user-images.githubusercontent.com/7065401/52071927-c1cd7100-2562-11e9-908a-dde91ba14e59.png)"
   ]
  },
  {
   "cell_type": "code",
   "execution_count": null,
   "metadata": {},
   "outputs": [],
   "source": []
  }
 ],
 "metadata": {
  "kernelspec": {
   "display_name": "Python 3 (ipykernel)",
   "language": "python",
   "name": "python3"
  },
  "language_info": {
   "codemirror_mode": {
    "name": "ipython",
    "version": 3
   },
   "file_extension": ".py",
   "mimetype": "text/x-python",
   "name": "python",
   "nbconvert_exporter": "python",
   "pygments_lexer": "ipython3",
   "version": "3.9.12"
  }
 },
 "nbformat": 4,
 "nbformat_minor": 4
}
